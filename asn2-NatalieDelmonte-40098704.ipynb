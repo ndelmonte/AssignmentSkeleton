{
 "cells": [
  {
   "cell_type": "code",
   "execution_count": 1,
   "id": "a6857c60",
   "metadata": {},
   "outputs": [],
   "source": [
    "%load_ext autoreload\n",
    "%autoreload 2\n",
    "\n",
    "import numpy as np\n",
    "import pandas as pd\n",
    "import matplotlib.pyplot as plt\n",
    "import sys\n",
    "\n",
    "# Tell jupyter you want to see much larger dataframes\n",
    "pd.set_option(\"display.max_rows\", 101)\n",
    "pd.set_option(\"display.max_columns\", 101)"
   ]
  },
  {
   "cell_type": "code",
   "execution_count": 111,
   "id": "5632279e",
   "metadata": {},
   "outputs": [],
   "source": [
    "def draw_tennis_court(color='green'):\n",
    "    plt.xticks([])\n",
    "    plt.yticks([])\n",
    "    plt.plot([0,0,78,78,0], [0,36,36,0,0],color=\"white\") #baseline\n",
    "    plt.plot([0,0,78,78,0],[4,31,31,4,4],color=\"white\") #singles sideline\n",
    "    plt.plot([39,39],[0,36],color=\"white\") #net\n",
    "    plt.plot([18,18,60,60,18],[4,31,31,4,4],color=\"white\")#service lines\n",
    "    plt.plot([18,60],[18,18],color=\"white\") #centre service lien\n",
    "    plt.plot([0,2],[18,18],color=\"white\")#centre mark\n",
    "    plt.plot([76,78],[18,18],color=\"white\")#centre mark\n",
    "    plt.savefig('tennis_court.png')\n",
    "    plt.show()\n",
    "    \n",
    "\n",
    "\n",
    "    "
   ]
  },
  {
   "cell_type": "code",
   "execution_count": 113,
   "id": "efea37ce",
   "metadata": {
    "scrolled": true
   },
   "outputs": [
    {
     "data": {
      "image/png": "[encoded data removed]",
      "text/plain": [
       "<Figure size 432x288 with 1 Axes>"
      ]
     },
     "metadata": {},
     "output_type": "display_data"
    }
   ],
   "source": [
    "draw_tennis_court()"
   ]
  }
 ],
 "metadata": {
  "kernelspec": {
   "display_name": "Python 3 (ipykernel)",
   "language": "python",
   "name": "python3"
  },
  "language_info": {
   "codemirror_mode": {
    "name": "ipython",
    "version": 3
   },
   "file_extension": ".py",
   "mimetype": "text/x-python",
   "name": "python",
   "nbconvert_exporter": "python",
   "pygments_lexer": "ipython3",
   "version": "3.8.11"
  }
 },
 "nbformat": 4,
 "nbformat_minor": 5
}
